{
  "nbformat": 4,
  "nbformat_minor": 0,
  "metadata": {
    "colab": {
      "provenance": []
    },
    "kernelspec": {
      "name": "python3",
      "display_name": "Python 3"
    },
    "language_info": {
      "name": "python"
    }
  },
  "cells": [
    {
      "cell_type": "markdown",
      "source": [
        "**Python assignment 2**"
      ],
      "metadata": {
        "id": "LLxyKHDRteY_"
      }
    },
    {
      "cell_type": "markdown",
      "source": [
        "Q1. Discuss string slicing and provide examples."
      ],
      "metadata": {
        "id": "OVdSS5Out3P7"
      }
    },
    {
      "cell_type": "code",
      "source": [
        "'''\n",
        "string slicing refers to partitioning of string such that neccessary manipulation\n",
        "can be made..\n",
        "'''\n",
        "#for example"
      ],
      "metadata": {
        "id": "qjtMUAJ8t2LF"
      },
      "execution_count": null,
      "outputs": []
    },
    {
      "cell_type": "code",
      "source": [
        "#let a be a string\n",
        "a=\"Hi, i'm Rashi Agrawal\"\n",
        "a"
      ],
      "metadata": {
        "colab": {
          "base_uri": "https://localhost:8080/",
          "height": 35
        },
        "id": "ArunCGbUvWz1",
        "outputId": "530bb5b8-23a6-428c-e3f6-bf3b60407d2f"
      },
      "execution_count": 1,
      "outputs": [
        {
          "output_type": "execute_result",
          "data": {
            "text/plain": [
              "\"Hi, i'm Rashi Agrawal\""
            ],
            "application/vnd.google.colaboratory.intrinsic+json": {
              "type": "string"
            }
          },
          "metadata": {},
          "execution_count": 1
        }
      ]
    },
    {
      "cell_type": "code",
      "source": [
        "a[0]"
      ],
      "metadata": {
        "colab": {
          "base_uri": "https://localhost:8080/",
          "height": 35
        },
        "id": "ZMJUcNhavqYf",
        "outputId": "01fc4328-23b6-407b-b6a2-2cb017025bb2"
      },
      "execution_count": 2,
      "outputs": [
        {
          "output_type": "execute_result",
          "data": {
            "text/plain": [
              "'H'"
            ],
            "application/vnd.google.colaboratory.intrinsic+json": {
              "type": "string"
            }
          },
          "metadata": {},
          "execution_count": 2
        }
      ]
    },
    {
      "cell_type": "code",
      "source": [
        "a[8:13]             # a slice or part of string can be taken out by slicing\n",
        "                    # syntax\n",
        "                       # [start : stop: step]"
      ],
      "metadata": {
        "colab": {
          "base_uri": "https://localhost:8080/",
          "height": 35
        },
        "id": "ZvqoS0pcv_zD",
        "outputId": "1d1bd5e9-894c-4b7d-9e1e-4279d37edcab"
      },
      "execution_count": 4,
      "outputs": [
        {
          "output_type": "execute_result",
          "data": {
            "text/plain": [
              "'Rashi'"
            ],
            "application/vnd.google.colaboratory.intrinsic+json": {
              "type": "string"
            }
          },
          "metadata": {},
          "execution_count": 4
        }
      ]
    },
    {
      "cell_type": "code",
      "source": [
        "a[-14:-1:2]\n",
        "                   # slicing is also possible with a negative index\n",
        "                   # step tells how many steps to be taken while taking out the slice"
      ],
      "metadata": {
        "colab": {
          "base_uri": "https://localhost:8080/",
          "height": 35
        },
        "id": "_YE3dCJqwLaf",
        "outputId": "168d6842-aece-4e97-eee9-52587741893f"
      },
      "execution_count": 10,
      "outputs": [
        {
          "output_type": "execute_result",
          "data": {
            "text/plain": [
              "' ah gaa'"
            ],
            "application/vnd.google.colaboratory.intrinsic+json": {
              "type": "string"
            }
          },
          "metadata": {},
          "execution_count": 10
        }
      ]
    },
    {
      "cell_type": "code",
      "source": [
        "a[::]              # if there is no index mentioned, by default, start starts with 0,\n",
        "                   # stop ends with the last index, and step takes 1 step."
      ],
      "metadata": {
        "colab": {
          "base_uri": "https://localhost:8080/",
          "height": 35
        },
        "id": "Hsn4LYz-wzk9",
        "outputId": "a5124076-daf3-4af2-baea-e80b0befedce"
      },
      "execution_count": 12,
      "outputs": [
        {
          "output_type": "execute_result",
          "data": {
            "text/plain": [
              "\"Hi, i'm Rashi Agrawal\""
            ],
            "application/vnd.google.colaboratory.intrinsic+json": {
              "type": "string"
            }
          },
          "metadata": {},
          "execution_count": 12
        }
      ]
    },
    {
      "cell_type": "markdown",
      "source": [
        "Q2. Explain the key features of lists in python."
      ],
      "metadata": {
        "id": "nF39hTCSzrLx"
      }
    },
    {
      "cell_type": "code",
      "source": [
        "'''\n",
        "lists are the ordered collection of heterogeneous datatype.\n",
        "a list is denoted by square brackets[].\n",
        "lists are mutable.i.e. their elements can be modified after creation.\n",
        "list are the most commonly used data structures.\n",
        "'''\n",
        "# the majorly used list operators are:\n",
        "#1. repetetion\n",
        "#2. concatenation\n",
        "#3. membership\n",
        "#4. iteration\n",
        "#5. length\n",
        "\n",
        "#the built in list functions are:\n",
        "\n",
        "#append, clear , copy , count , extend , index ,\n",
        " # insert , remove , reverse , sort , pop ."
      ],
      "metadata": {
        "id": "RVMm26Bo0Ess"
      },
      "execution_count": null,
      "outputs": []
    },
    {
      "cell_type": "markdown",
      "source": [
        "Q3. Describe how to access, modify, and delete elements in a list with examples."
      ],
      "metadata": {
        "id": "xuvbBbuX2R1e"
      }
    },
    {
      "cell_type": "code",
      "source": [
        "# elements can be accessed in a list by their index .\n",
        "#for eg:"
      ],
      "metadata": {
        "id": "2xcWnJnLyJ4W"
      },
      "execution_count": 13,
      "outputs": []
    },
    {
      "cell_type": "code",
      "source": [
        "list1 = [3, 5,6.6, 3+5j,\"data\",True,\"science\"]\n",
        "list1"
      ],
      "metadata": {
        "colab": {
          "base_uri": "https://localhost:8080/"
        },
        "id": "v1fsw1yw4UBQ",
        "outputId": "cbf1e98f-5699-4e2c-f72c-4c7bca82bb94"
      },
      "execution_count": 75,
      "outputs": [
        {
          "output_type": "execute_result",
          "data": {
            "text/plain": [
              "[3, 5, 6.6, (3+5j), 'data', True, 'science']"
            ]
          },
          "metadata": {},
          "execution_count": 75
        }
      ]
    },
    {
      "cell_type": "code",
      "source": [
        "#to access and element in a list through their specified index\n",
        "list1[4]"
      ],
      "metadata": {
        "colab": {
          "base_uri": "https://localhost:8080/",
          "height": 35
        },
        "id": "RCsAGo4y4n1p",
        "outputId": "37a575b5-8fcc-45d8-dc36-869327c94a4c"
      },
      "execution_count": 23,
      "outputs": [
        {
          "output_type": "execute_result",
          "data": {
            "text/plain": [
              "'data'"
            ],
            "application/vnd.google.colaboratory.intrinsic+json": {
              "type": "string"
            }
          },
          "metadata": {},
          "execution_count": 23
        }
      ]
    },
    {
      "cell_type": "code",
      "source": [
        "list1[1:5]            # start index and stop index if mentioned can also be accessed"
      ],
      "metadata": {
        "colab": {
          "base_uri": "https://localhost:8080/"
        },
        "id": "qSrhBp2F5W5x",
        "outputId": "4470f28b-e6f6-4b8d-fecd-ec2da5109314"
      },
      "execution_count": 28,
      "outputs": [
        {
          "output_type": "execute_result",
          "data": {
            "text/plain": [
              "[5, 6.6, (3+5j), 'data']"
            ]
          },
          "metadata": {},
          "execution_count": 28
        }
      ]
    },
    {
      "cell_type": "code",
      "source": [
        "list1[1:5:2]          #step is also possible in lists."
      ],
      "metadata": {
        "colab": {
          "base_uri": "https://localhost:8080/"
        },
        "id": "1Nhosk2T5c3i",
        "outputId": "a02b7e1b-c8cb-4737-a6f9-c054e65c5492"
      },
      "execution_count": 29,
      "outputs": [
        {
          "output_type": "execute_result",
          "data": {
            "text/plain": [
              "[5, (3+5j)]"
            ]
          },
          "metadata": {},
          "execution_count": 29
        }
      ]
    },
    {
      "cell_type": "code",
      "source": [
        "#modifying elements\n",
        "list1[3] = \"skills\"         # lists are mutable\n",
        "list1"
      ],
      "metadata": {
        "colab": {
          "base_uri": "https://localhost:8080/"
        },
        "id": "7fpwOXt-5rZM",
        "outputId": "439bafdf-a67b-4c60-b207-63736573a66d"
      },
      "execution_count": 45,
      "outputs": [
        {
          "output_type": "execute_result",
          "data": {
            "text/plain": [
              "[3, 5, 6.6, 'skills', 'data', True, 'science']"
            ]
          },
          "metadata": {},
          "execution_count": 45
        }
      ]
    },
    {
      "cell_type": "code",
      "source": [
        "list1.append(\"lab\")\n",
        "list1"
      ],
      "metadata": {
        "colab": {
          "base_uri": "https://localhost:8080/"
        },
        "id": "GGlEdVdO6MzA",
        "outputId": "3cf8212e-e338-4a23-f764-95607a3f8bf4"
      },
      "execution_count": 76,
      "outputs": [
        {
          "output_type": "execute_result",
          "data": {
            "text/plain": [
              "[3, 5, 6.6, (3+5j), 'data', True, 'science', 'lab']"
            ]
          },
          "metadata": {},
          "execution_count": 76
        }
      ]
    },
    {
      "cell_type": "code",
      "source": [
        "list2=[2,4,6]\n",
        "list2.extend(list1)\n",
        "list2                   #extend function joins the elements fron list1 into list2\n",
        "                         #while list1 remains the same"
      ],
      "metadata": {
        "colab": {
          "base_uri": "https://localhost:8080/"
        },
        "id": "OEZOLJKJ961C",
        "outputId": "4e487072-1f37-439a-b525-beeeefac3bc3"
      },
      "execution_count": 78,
      "outputs": [
        {
          "output_type": "execute_result",
          "data": {
            "text/plain": [
              "[2, 4, 6, 3, 5, 6.6, (3+5j), 'data', True, 'science', 'lab']"
            ]
          },
          "metadata": {},
          "execution_count": 78
        }
      ]
    },
    {
      "cell_type": "code",
      "source": [
        "list2.insert(2,\"4:5\")\n",
        "list2                  #the speciified object is inserted at the specified index."
      ],
      "metadata": {
        "colab": {
          "base_uri": "https://localhost:8080/"
        },
        "id": "0mRhTe-B-XWc",
        "outputId": "fd54b6e4-5a8d-400d-efa4-3211699fcb0b"
      },
      "execution_count": 79,
      "outputs": [
        {
          "output_type": "execute_result",
          "data": {
            "text/plain": [
              "[2, 4, '4:5', 6, 3, 5, 6.6, (3+5j), 'data', True, 'science', 'lab']"
            ]
          },
          "metadata": {},
          "execution_count": 79
        }
      ]
    },
    {
      "cell_type": "code",
      "source": [
        "#deleting elements\n",
        "list1.remove(6.6)\n",
        "list1"
      ],
      "metadata": {
        "colab": {
          "base_uri": "https://localhost:8080/"
        },
        "id": "qe51xu4q8NBJ",
        "outputId": "09db2459-cf16-4873-82ac-2336814593be"
      },
      "execution_count": 70,
      "outputs": [
        {
          "output_type": "execute_result",
          "data": {
            "text/plain": [
              "[3, 5, (3+5j), 'data', True, 'science', 'lab']"
            ]
          },
          "metadata": {},
          "execution_count": 70
        }
      ]
    },
    {
      "cell_type": "code",
      "source": [
        "list1.pop()           #the last element fron the list is removed, by default"
      ],
      "metadata": {
        "colab": {
          "base_uri": "https://localhost:8080/",
          "height": 35
        },
        "id": "nYumv37T8aWO",
        "outputId": "7ae3d84d-3919-40ac-a0c3-675793a84a1b"
      },
      "execution_count": 71,
      "outputs": [
        {
          "output_type": "execute_result",
          "data": {
            "text/plain": [
              "'lab'"
            ],
            "application/vnd.google.colaboratory.intrinsic+json": {
              "type": "string"
            }
          },
          "metadata": {},
          "execution_count": 71
        }
      ]
    },
    {
      "cell_type": "code",
      "source": [
        "list1.pop(3)          #the element from specified index has been removed"
      ],
      "metadata": {
        "colab": {
          "base_uri": "https://localhost:8080/",
          "height": 35
        },
        "id": "PMolgN_v8iPQ",
        "outputId": "c895f110-a71e-4695-ffb1-f16d08c5984f"
      },
      "execution_count": 72,
      "outputs": [
        {
          "output_type": "execute_result",
          "data": {
            "text/plain": [
              "'data'"
            ],
            "application/vnd.google.colaboratory.intrinsic+json": {
              "type": "string"
            }
          },
          "metadata": {},
          "execution_count": 72
        }
      ]
    },
    {
      "cell_type": "code",
      "source": [
        "list1"
      ],
      "metadata": {
        "colab": {
          "base_uri": "https://localhost:8080/"
        },
        "id": "kSckR49x9mjh",
        "outputId": "18a991f4-be4f-4b7d-8397-662742a2259e"
      },
      "execution_count": 73,
      "outputs": [
        {
          "output_type": "execute_result",
          "data": {
            "text/plain": [
              "[3, 5, (3+5j), True, 'science']"
            ]
          },
          "metadata": {},
          "execution_count": 73
        }
      ]
    },
    {
      "cell_type": "code",
      "source": [
        "list1.clear()          #all the elemrnts from the list is removed\n",
        "list1"
      ],
      "metadata": {
        "colab": {
          "base_uri": "https://localhost:8080/"
        },
        "id": "OKXgntw49LHt",
        "outputId": "7f5f4cb0-5bf8-46b6-9ee6-af3e2bb946f7"
      },
      "execution_count": 74,
      "outputs": [
        {
          "output_type": "execute_result",
          "data": {
            "text/plain": [
              "[]"
            ]
          },
          "metadata": {},
          "execution_count": 74
        }
      ]
    },
    {
      "cell_type": "code",
      "source": [
        "list2"
      ],
      "metadata": {
        "colab": {
          "base_uri": "https://localhost:8080/"
        },
        "id": "OP__Vsk99RLE",
        "outputId": "5b7850c7-770d-4c39-c060-2df4a9fb8da1"
      },
      "execution_count": 80,
      "outputs": [
        {
          "output_type": "execute_result",
          "data": {
            "text/plain": [
              "[2, 4, '4:5', 6, 3, 5, 6.6, (3+5j), 'data', True, 'science', 'lab']"
            ]
          },
          "metadata": {},
          "execution_count": 80
        }
      ]
    },
    {
      "cell_type": "code",
      "source": [
        "del list2\n",
        "list2               # list2 is deleted from the memory by del function."
      ],
      "metadata": {
        "colab": {
          "base_uri": "https://localhost:8080/",
          "height": 159
        },
        "id": "eThWP1rK_KSH",
        "outputId": "2f4e566d-c1f9-438b-9cf7-900acc861f24"
      },
      "execution_count": 81,
      "outputs": [
        {
          "output_type": "error",
          "ename": "NameError",
          "evalue": "name 'list2' is not defined",
          "traceback": [
            "\u001b[0;31m---------------------------------------------------------------------------\u001b[0m",
            "\u001b[0;31mNameError\u001b[0m                                 Traceback (most recent call last)",
            "\u001b[0;32m<ipython-input-81-7658c1aceea1>\u001b[0m in \u001b[0;36m<cell line: 2>\u001b[0;34m()\u001b[0m\n\u001b[1;32m      1\u001b[0m \u001b[0;32mdel\u001b[0m \u001b[0mlist2\u001b[0m\u001b[0;34m\u001b[0m\u001b[0;34m\u001b[0m\u001b[0m\n\u001b[0;32m----> 2\u001b[0;31m \u001b[0mlist2\u001b[0m\u001b[0;34m\u001b[0m\u001b[0;34m\u001b[0m\u001b[0m\n\u001b[0m",
            "\u001b[0;31mNameError\u001b[0m: name 'list2' is not defined"
          ]
        }
      ]
    },
    {
      "cell_type": "code",
      "source": [],
      "metadata": {
        "id": "UNm53scL_TDP"
      },
      "execution_count": null,
      "outputs": []
    },
    {
      "cell_type": "markdown",
      "source": [
        "Q4. Compare and contrast tuples and lists with examples."
      ],
      "metadata": {
        "id": "Lmda8CtW_nYU"
      }
    },
    {
      "cell_type": "code",
      "source": [],
      "metadata": {
        "id": "5zIYp-SM_4wK"
      },
      "execution_count": null,
      "outputs": []
    }
  ]
}